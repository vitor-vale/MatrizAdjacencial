{
  "nbformat": 4,
  "nbformat_minor": 0,
  "metadata": {
    "colab": {
      "provenance": []
    },
    "kernelspec": {
      "name": "python3",
      "display_name": "Python 3"
    },
    "language_info": {
      "name": "python"
    }
  },
  "cells": [
    {
      "cell_type": "code",
      "execution_count": null,
      "metadata": {
        "id": "uaBbaouSdH8x"
      },
      "outputs": [],
      "source": [
        "import numpy as np"
      ]
    },
    {
      "cell_type": "code",
      "source": [
        "class Grafo:\n",
        "  #construtor da classe com os atributos ordem, tamanho, matriz de adjacencias\n",
        "  def __init__(self, n_vertices):\n",
        "    self.ordem = n_vertices\n",
        "    self.tamanho = 0\n",
        "    self.matriz_adjacencias = np.ones((n_vertices,n_vertices)) * np.inf\n",
        "  #operacoes\n",
        "\n",
        "\n",
        "  def adicionaAresta(self, u, v, peso):\n",
        "    if u > self.ordem-1 or v > self.ordem-1:\n",
        "      print(\"A posicao u ou v é invalida. Aresta nao adicionada\")\n",
        "    else:\n",
        "      if not self.temAresta(u,v):\n",
        "        self.tamanho += 1\n",
        "      self.matriz_adjacencias[u][v] = peso\n",
        "\n",
        "  def temAresta(self, u, v):\n",
        "    if self.matriz_adjacencias[u][v] == np.inf:\n",
        "      return False\n",
        "    else:\n",
        "      return True\n",
        "\n",
        "  def removeAresta(self, u, v):\n",
        "    if self.temAresta(u,v):\n",
        "      self.matriz_adjacencias[u][v] = np.inf\n",
        "      self.tamanho -=1\n",
        "\n",
        "  def grauEntrada(self, u):\n",
        "    grauEntrada = 0\n",
        "    for i in range(self.ordem):\n",
        "      if self.matriz_adjacencias[i][u] != np.inf:\n",
        "        grauEntrada += 1\n",
        "    print(\"Grau de entrada: \", grauEntrada)\n",
        "    return grauEntrada\n",
        "\n",
        "  def grauSaida(self, u):\n",
        "    grauSaida = 0\n",
        "    if self.matriz_adjacencias[u][i] != np.inf:\n",
        "      grauSaida += 1\n",
        "    print(\"Grau de Saida: \", grauSaida)\n",
        "    return grauSaida\n",
        "\n",
        "  def grau(self, u):\n",
        "    grau = 0\n",
        "    for i in range(self.ordem):\n",
        "      if self.matriz_adjacencias[u][i] != np.inf:\n",
        "        grau += 1\n",
        "      if self.matriz_adjacencias[i][u] != np.inf:\n",
        "        grau += 1\n",
        "    print(\"Grau \", grau)\n",
        "    return grau\n",
        "  #o grafo sera considerado denso, se possuir uma qtd de arestas maior que 90% da quantidade max de arestas possiveis\n",
        "  def eh_denso(self):\n",
        "    if self.tamanho > self.get_max_arestas() * 0.9:\n",
        "      return True\n",
        "    else:\n",
        "      return False\n",
        "\n",
        "  #grafo direcionado: qtde max de arestas sera max = n^2 - n em que n= qtde de vertices\n",
        "  #grafo nao direcionado = n^2 - n / 2\n",
        "  def get_max_arestas(self):\n",
        "    return np.power(self.ordem,2) - self.ordem\n",
        "\n",
        "  def imprimeMatriz(self):\n",
        "    print(\"Matriz de Adjacencias: \")\n",
        "    for i in range(self.ordem):\n",
        "      print(f\"{i}: {self.matriz_adjacencias[i]}\")\n",
        "\n",
        "\n",
        "  #retorna a matriz de alcancabilidade M de um grafo G\n",
        "  def warshall(self):\n",
        "    #criaçao da matriz de alcançabilidade NxN\n",
        "    M = no.zeros((self.ordem, self.ordem))\n",
        "\n",
        "    # copia o conteudo da matriz adjacencias (que possui pesos) para a matriz M subs os valores diferentes de infinito por 1\n",
        "    M[self.matriz_adjacencias != np.inf] = 1\n",
        "\n",
        "    for k in range(self.ordem): #sao geradas N matrizes\n",
        "      for i in range(self.ordem): #percorre todas as linhas\n",
        "        for j in range(self.ordem): #percorre todas as colunas\n",
        "          M[i][j] = M[i][j] or (M[i][k] and M[k][j])\n",
        "    return M\n",
        "\n",
        "\n",
        "  def possuiCaminho(self, u, v):\n",
        "    M = self.warshall()\n",
        "    if M[u][v] == 1:\n",
        "      return True\n",
        "    else:\n",
        "      return False\n"
      ],
      "metadata": {
        "id": "Ch1vX4L-eNAH"
      },
      "execution_count": null,
      "outputs": []
    },
    {
      "cell_type": "code",
      "source": [
        "G = Grafo(5)\n",
        "G.adicionaAresta(0, 1, 10)\n",
        "G.adicionaAresta(0, 2, 4)\n",
        "G.adicionaAresta(2, 3, 66)\n",
        "G.adicionaAresta(1, 3, 50)\n",
        "G.adicionaAresta(4, 3, 2)\n",
        "print(\"Tamanho\")\n",
        "G.tamanho\n",
        "G.grau(3)"
      ],
      "metadata": {
        "colab": {
          "base_uri": "https://localhost:8080/"
        },
        "id": "Y0kVsgmFfSnf",
        "outputId": "b212114a-1271-44ab-ba7b-c62912710c60"
      },
      "execution_count": null,
      "outputs": [
        {
          "output_type": "stream",
          "name": "stdout",
          "text": [
            "Tamanho\n",
            "Grau  3\n"
          ]
        },
        {
          "output_type": "execute_result",
          "data": {
            "text/plain": [
              "3"
            ]
          },
          "metadata": {},
          "execution_count": 36
        }
      ]
    },
    {
      "cell_type": "code",
      "source": [
        "G.imprimeMatriz()"
      ],
      "metadata": {
        "colab": {
          "base_uri": "https://localhost:8080/"
        },
        "id": "U-7EZD4sfWqX",
        "outputId": "bf2fd58a-c69a-4359-fa08-5af8478f64e4"
      },
      "execution_count": null,
      "outputs": [
        {
          "output_type": "stream",
          "name": "stdout",
          "text": [
            "Matriz de Adjacencias: \n",
            "0: [inf 10.  4. inf inf]\n",
            "1: [inf inf inf inf inf]\n",
            "2: [inf inf inf 66. inf]\n",
            "3: [inf inf inf inf inf]\n",
            "4: [inf inf inf inf inf]\n"
          ]
        }
      ]
    },
    {
      "cell_type": "code",
      "source": [],
      "metadata": {
        "id": "wkjOmYvrillU"
      },
      "execution_count": null,
      "outputs": []
    }
  ]
}